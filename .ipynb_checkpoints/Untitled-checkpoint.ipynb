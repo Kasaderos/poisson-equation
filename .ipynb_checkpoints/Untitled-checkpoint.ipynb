{
 "cells": [
  {
   "cell_type": "code",
   "execution_count": null,
   "id": "wooden-samoa",
   "metadata": {},
   "outputs": [],
   "source": [
    "import numpy as np\n",
    "import sys\n",
    "\n",
    "def u0(x, y):\n",
    "    return 0.0\n",
    "\n",
    "def phi1(y):\n",
    "    return 0.0\n",
    "\n",
    "def phi2(y):\n",
    "    return y*y+y\n",
    "\n",
    "def phi3(x):\n",
    "    return 0\n",
    "\n",
    "def phi4(x):\n",
    "    return x**3 + x\n",
    "\n",
    "T = 1.0\n",
    "\n"
   ]
  }
 ],
 "metadata": {
  "kernelspec": {
   "display_name": "Python 3",
   "language": "python",
   "name": "python3"
  },
  "language_info": {
   "codemirror_mode": {
    "name": "ipython",
    "version": 3
   },
   "file_extension": ".py",
   "mimetype": "text/x-python",
   "name": "python",
   "nbconvert_exporter": "python",
   "pygments_lexer": "ipython3",
   "version": "3.6.9"
  }
 },
 "nbformat": 4,
 "nbformat_minor": 5
}
